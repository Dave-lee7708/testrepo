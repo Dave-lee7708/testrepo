{
    "cells": [
        {
            "cell_type": "markdown",
            "metadata": {},
            "source": "# My Jupyter Notebook on IBM Watson Studio"
        },
        {
            "cell_type": "markdown",
            "metadata": {},
            "source": "I'm TAY WEY LEE, my occupation is Data engineer.  "
        },
        {
            "cell_type": "markdown",
            "metadata": {},
            "source": "*I am interested in data science because this technology can earn money.*\n"
        },
        {
            "cell_type": "markdown",
            "metadata": {},
            "source": "My function will show summary of a and b you give."
        },
        {
            "cell_type": "code",
            "execution_count": 15,
            "metadata": {},
            "outputs": [
                {
                    "name": "stdout",
                    "output_type": "stream",
                    "text": "6\n"
                }
            ],
            "source": "def add(a,b):\n    c=a+b\n    return c\na=1\nb=5\nprint(add(a,b))"
        },
        {
            "cell_type": "markdown",
            "metadata": {},
            "source": "~~strikethrough~~\n* * *\n\n<li>A\n<li>B\n<li>C\n"
        },
        {
            "cell_type": "code",
            "execution_count": null,
            "metadata": {},
            "outputs": [],
            "source": ""
        }
    ],
    "metadata": {
        "anaconda-cloud": {},
        "kernelspec": {
            "display_name": "Python 3.9",
            "language": "python",
            "name": "python3"
        },
        "language_info": {
            "codemirror_mode": {
                "name": "ipython",
                "version": 3
            },
            "file_extension": ".py",
            "mimetype": "text/x-python",
            "name": "python",
            "nbconvert_exporter": "python",
            "pygments_lexer": "ipython3",
            "version": "3.9.7"
        }
    },
    "nbformat": 4,
    "nbformat_minor": 2
}